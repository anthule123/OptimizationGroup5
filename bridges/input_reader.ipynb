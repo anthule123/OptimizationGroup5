{
 "cells": [
  {
   "cell_type": "code",
   "execution_count": 133,
   "metadata": {},
   "outputs": [
    {
     "name": "stdout",
     "output_type": "stream",
     "text": [
      "(9,)\n",
      "['.4..3.3.3' '..1..2.1.' '.2.......' '2..2.2..4' '.........' '3..3.1..2'\n",
      " '.......2.' '.1.3..2..' '2.2.3..3.']\n"
     ]
    }
   ],
   "source": [
    "#B1: đọc dữ liệu từ bridge_game.txt\n",
    "import numpy as np\n",
    "with open('input_txt/bridge_game2.txt', 'r') as f:\n",
    "    data = f.read()\n",
    "    data = data.split('\\n')\n",
    "    data = np.array(data)\n",
    "    print(data.shape)\n",
    "    print(data)"
   ]
  },
  {
   "cell_type": "code",
   "execution_count": 134,
   "metadata": {},
   "outputs": [
    {
     "data": {
      "text/plain": [
       "tuple"
      ]
     },
     "execution_count": 134,
     "metadata": {},
     "output_type": "execute_result"
    }
   ],
   "source": [
    "type(data.shape)"
   ]
  },
  {
   "cell_type": "code",
   "execution_count": 135,
   "metadata": {},
   "outputs": [
    {
     "name": "stdout",
     "output_type": "stream",
     "text": [
      ".4..3.3.3\n",
      "..1..2.1.\n",
      ".2.......\n",
      "2..2.2..4\n",
      ".........\n",
      "3..3.1..2\n",
      ".......2.\n",
      ".1.3..2..\n",
      "2.2.3..3.\n"
     ]
    }
   ],
   "source": [
    "for i in range(len(data)):\n",
    "    print(data[i])"
   ]
  },
  {
   "cell_type": "code",
   "execution_count": 136,
   "metadata": {},
   "outputs": [
    {
     "name": "stdout",
     "output_type": "stream",
     "text": [
      "9 9\n"
     ]
    }
   ],
   "source": [
    "sizeX = data.shape[0]\n",
    "sizeY = len(data[0])\n",
    "print(sizeX, sizeY)"
   ]
  },
  {
   "cell_type": "code",
   "execution_count": 137,
   "metadata": {},
   "outputs": [
    {
     "name": "stdout",
     "output_type": "stream",
     "text": [
      "Node(id: 0, goal_order: 4, [],x= 0,y= 1)\n",
      "Node(id: 1, goal_order: 3, [],x= 0,y= 4)\n",
      "Node(id: 2, goal_order: 3, [],x= 0,y= 6)\n",
      "Node(id: 3, goal_order: 3, [],x= 0,y= 8)\n",
      "Node(id: 4, goal_order: 1, [],x= 1,y= 2)\n",
      "Node(id: 5, goal_order: 2, [],x= 1,y= 5)\n",
      "Node(id: 6, goal_order: 1, [],x= 1,y= 7)\n",
      "Node(id: 7, goal_order: 2, [],x= 2,y= 1)\n",
      "Node(id: 8, goal_order: 2, [],x= 3,y= 0)\n",
      "Node(id: 9, goal_order: 2, [],x= 3,y= 3)\n",
      "Node(id: 10, goal_order: 2, [],x= 3,y= 5)\n",
      "Node(id: 11, goal_order: 4, [],x= 3,y= 8)\n",
      "Node(id: 12, goal_order: 3, [],x= 5,y= 0)\n",
      "Node(id: 13, goal_order: 3, [],x= 5,y= 3)\n",
      "Node(id: 14, goal_order: 1, [],x= 5,y= 5)\n",
      "Node(id: 15, goal_order: 2, [],x= 5,y= 8)\n",
      "Node(id: 16, goal_order: 2, [],x= 6,y= 7)\n",
      "Node(id: 17, goal_order: 1, [],x= 7,y= 1)\n",
      "Node(id: 18, goal_order: 3, [],x= 7,y= 3)\n",
      "Node(id: 19, goal_order: 2, [],x= 7,y= 6)\n",
      "Node(id: 20, goal_order: 2, [],x= 8,y= 0)\n",
      "Node(id: 21, goal_order: 2, [],x= 8,y= 2)\n",
      "Node(id: 22, goal_order: 3, [],x= 8,y= 4)\n",
      "Node(id: 23, goal_order: 3, [],x= 8,y= 7)\n"
     ]
    }
   ],
   "source": [
    "#B2: tạo dictionary nodes\n",
    "counter = 0\n",
    "from model.node import Node\n",
    "nodes = {}\n",
    "#get id from position\n",
    "position = {}\n",
    "for i in range(sizeX):\n",
    "    for j in range(sizeY):\n",
    "        if data[i][j] != '.':\n",
    "            nodes[counter] = Node(\n",
    "                id = counter,\n",
    "                goal_order= int(data[i][j]),\n",
    "                x = i,\n",
    "                y = j,\n",
    "                potenial_neighbor_ids = [])\n",
    "            position[(i,j)] = counter\n",
    "            counter += 1\n",
    "for key, value in nodes.items():\n",
    "    print(value)"
   ]
  },
  {
   "cell_type": "code",
   "execution_count": 138,
   "metadata": {},
   "outputs": [
    {
     "data": {
      "text/plain": [
       "{(0, 1): 0,\n",
       " (0, 4): 1,\n",
       " (0, 6): 2,\n",
       " (0, 8): 3,\n",
       " (1, 2): 4,\n",
       " (1, 5): 5,\n",
       " (1, 7): 6,\n",
       " (2, 1): 7,\n",
       " (3, 0): 8,\n",
       " (3, 3): 9,\n",
       " (3, 5): 10,\n",
       " (3, 8): 11,\n",
       " (5, 0): 12,\n",
       " (5, 3): 13,\n",
       " (5, 5): 14,\n",
       " (5, 8): 15,\n",
       " (6, 7): 16,\n",
       " (7, 1): 17,\n",
       " (7, 3): 18,\n",
       " (7, 6): 19,\n",
       " (8, 0): 20,\n",
       " (8, 2): 21,\n",
       " (8, 4): 22,\n",
       " (8, 7): 23}"
      ]
     },
     "execution_count": 138,
     "metadata": {},
     "output_type": "execute_result"
    }
   ],
   "source": [
    "position"
   ]
  },
  {
   "cell_type": "code",
   "execution_count": 139,
   "metadata": {},
   "outputs": [],
   "source": [
    "def order_pair(a,b):\n",
    "    if a < b:\n",
    "        return (a,b)\n",
    "    else:\n",
    "        return (b,a)"
   ]
  },
  {
   "cell_type": "code",
   "execution_count": 140,
   "metadata": {},
   "outputs": [],
   "source": [
    "#B3: tạo các neighbor cho các node\n",
    "edges = set()\n",
    "for node_i in nodes.keys():\n",
    "    x = nodes[node_i].x\n",
    "    y = nodes[node_i].y\n",
    "    leftx = x - 1\n",
    "    while(leftx >= 0):\n",
    "        if (leftx, y) in position.keys():\n",
    "            nodes[node_i].potenial_neighbor_ids.append(position[(leftx, y)])\n",
    "            edges.add(order_pair(node_i, position[(leftx, y)]))\n",
    "            break\n",
    "        leftx -= 1\n",
    "    rightx = x + 1\n",
    "    while(rightx < sizeX):\n",
    "        if (rightx, y) in position.keys():\n",
    "            nodes[node_i].potenial_neighbor_ids.append(position[(rightx, y)])\n",
    "            edges.add(order_pair(node_i, position[(rightx, y)]))\n",
    "            break\n",
    "        rightx += 1\n",
    "    upy = y - 1\n",
    "    while(upy >= 0):\n",
    "        if (x, upy) in position.keys():\n",
    "            nodes[node_i].potenial_neighbor_ids.append(position[(x, upy)])\n",
    "            edges.add(order_pair(node_i, position[(x, upy)]))\n",
    "            break\n",
    "        upy -= 1\n",
    "    downy = y + 1\n",
    "    while (downy < sizeY):\n",
    "        if (x, downy) in position.keys():\n",
    "            nodes[node_i].potenial_neighbor_ids.append(position[(x, downy)])\n",
    "            edges.add(order_pair(node_i, position[(x, downy)]))\n",
    "            break\n",
    "        downy += 1\n",
    "    "
   ]
  },
  {
   "cell_type": "code",
   "execution_count": 141,
   "metadata": {},
   "outputs": [
    {
     "data": {
      "text/plain": [
       "{(0, 1),\n",
       " (0, 7),\n",
       " (1, 2),\n",
       " (1, 22),\n",
       " (2, 3),\n",
       " (2, 19),\n",
       " (3, 11),\n",
       " (4, 5),\n",
       " (4, 21),\n",
       " (5, 6),\n",
       " (5, 10),\n",
       " (6, 16),\n",
       " (7, 17),\n",
       " (8, 9),\n",
       " (8, 12),\n",
       " (9, 10),\n",
       " (9, 13),\n",
       " (10, 11),\n",
       " (10, 14),\n",
       " (11, 15),\n",
       " (12, 13),\n",
       " (12, 20),\n",
       " (13, 14),\n",
       " (13, 18),\n",
       " (14, 15),\n",
       " (16, 23),\n",
       " (17, 18),\n",
       " (18, 19),\n",
       " (20, 21),\n",
       " (21, 22),\n",
       " (22, 23)}"
      ]
     },
     "execution_count": 141,
     "metadata": {},
     "output_type": "execute_result"
    }
   ],
   "source": [
    "edges\n",
    "#len(edges)"
   ]
  },
  {
   "cell_type": "code",
   "execution_count": 142,
   "metadata": {},
   "outputs": [],
   "source": [
    "#B4: tìm các cặp cạnh cắt nhau\n",
    "cut_edges = set()\n",
    "for edge_i in edges:\n",
    "    #cạnh i là cạnh dọc thì bỏ qua\n",
    "    if nodes[edge_i[0]].y == nodes[edge_i[1]].y:\n",
    "        continue\n",
    "    #nên canh i là cạnh ngang\n",
    "    for edge_j in edges:\n",
    "        #cạnh j là cạnh ngang thì bỏ qua\n",
    "        if nodes[edge_j[0]].x == nodes[edge_j[1]].x:\n",
    "            continue\n",
    "        #nên canh j là cạnh dọc\n",
    "        if edge_i != edge_j:\n",
    "            #2 cạnh ko chung đỉnh\n",
    "            if edge_i[0] != edge_j[0] and edge_i[0] != edge_j[1] and edge_i[1] != edge_j[0] and edge_i[1] != edge_j[1]:\n",
    "                x_i = nodes[edge_i[0]].x\n",
    "                y_j = nodes[edge_j[0]].y\n",
    "                x_1 = nodes[edge_j[0]].x\n",
    "                x_2 = nodes[edge_j[1]].x\n",
    "                y_1 = nodes[edge_i[0]].y\n",
    "                y_2 = nodes[edge_i[1]].y\n",
    "                if(x_1<x_i and x_i<x_2 and y_1<y_j and y_j<y_2):\n",
    "                    cut_edges.add((edge_i, edge_j))"
   ]
  },
  {
   "cell_type": "code",
   "execution_count": 143,
   "metadata": {},
   "outputs": [
    {
     "data": {
      "text/plain": [
       "{((4, 5), (1, 22)),\n",
       " ((5, 6), (2, 19)),\n",
       " ((8, 9), (4, 21)),\n",
       " ((8, 9), (7, 17)),\n",
       " ((9, 10), (1, 22)),\n",
       " ((10, 11), (2, 19)),\n",
       " ((10, 11), (6, 16)),\n",
       " ((12, 13), (4, 21)),\n",
       " ((12, 13), (7, 17)),\n",
       " ((13, 14), (1, 22)),\n",
       " ((14, 15), (2, 19)),\n",
       " ((14, 15), (6, 16)),\n",
       " ((17, 18), (4, 21)),\n",
       " ((18, 19), (1, 22))}"
      ]
     },
     "execution_count": 143,
     "metadata": {},
     "output_type": "execute_result"
    }
   ],
   "source": [
    "cut_edges"
   ]
  },
  {
   "cell_type": "code",
   "execution_count": 144,
   "metadata": {},
   "outputs": [
    {
     "data": {
      "text/plain": [
       "(8, 4)"
      ]
     },
     "execution_count": 144,
     "metadata": {},
     "output_type": "execute_result"
    }
   ],
   "source": [
    "nodes[22].x,nodes[22].y"
   ]
  },
  {
   "cell_type": "code",
   "execution_count": 145,
   "metadata": {},
   "outputs": [],
   "source": [
    "#Phần 2: tạo model \n",
    "import gurobipy as gp\n",
    "from gurobipy import GRB\n",
    "model = gp.Model('bridge_game')"
   ]
  },
  {
   "cell_type": "code",
   "execution_count": 146,
   "metadata": {},
   "outputs": [],
   "source": [
    "x = {}\n",
    "for edge_key in edges:\n",
    "    x[edge_key] = model.addVar(vtype=GRB.BINARY, name=f'x_{edge_key}')\n",
    "    x[edge_key,2] = model.addVar(vtype=GRB.BINARY, name=f'x_{edge_key}_2') #cái cạnh thứ 2 copy "
   ]
  },
  {
   "cell_type": "code",
   "execution_count": 147,
   "metadata": {},
   "outputs": [],
   "source": [
    "\n",
    "for node_id in nodes.keys():\n",
    "    #lấy ra các cạnh có chứa node_id\n",
    "    edges_contain_node_id = []\n",
    "    for neighbor_id in nodes[node_id].potenial_neighbor_ids:\n",
    "        edge_key = (order_pair(node_id, neighbor_id))\n",
    "        edges_contain_node_id.append (x[edge_key])\n",
    "        edges_contain_node_id.append(x[edge_key,2])\n",
    "    model.addConstr(sum(edges_contain_node_id) == nodes[node_id].goal_order, name=f'node_{node_id}')\n",
    "        \n",
    "    "
   ]
  },
  {
   "cell_type": "code",
   "execution_count": 148,
   "metadata": {},
   "outputs": [
    {
     "name": "stdout",
     "output_type": "stream",
     "text": [
      "Gurobi Optimizer version 10.0.1 build v10.0.1rc0 (win64)\n",
      "\n",
      "CPU model: 12th Gen Intel(R) Core(TM) i5-12500H, instruction set [SSE2|AVX|AVX2]\n",
      "Thread count: 12 physical cores, 16 logical processors, using up to 16 threads\n",
      "\n",
      "Optimize a model with 24 rows, 62 columns and 124 nonzeros\n",
      "Model fingerprint: 0x046db814\n",
      "Variable types: 0 continuous, 62 integer (62 binary)\n",
      "Coefficient statistics:\n",
      "  Matrix range     [1e+00, 1e+00]\n",
      "  Objective range  [0e+00, 0e+00]\n",
      "  Bounds range     [1e+00, 1e+00]\n",
      "  RHS range        [1e+00, 4e+00]\n",
      "Found heuristic solution: objective 0.0000000\n",
      "\n",
      "Explored 0 nodes (0 simplex iterations) in 0.00 seconds (0.00 work units)\n",
      "Thread count was 1 (of 16 available processors)\n",
      "\n",
      "Solution count 1: 0 \n",
      "\n",
      "Optimal solution found (tolerance 1.00e-04)\n",
      "Best objective 0.000000000000e+00, best bound 0.000000000000e+00, gap 0.0000%\n",
      "x_(12, 13) 1.0\n",
      "x_(12, 13)_2 1.0\n",
      "x_(21, 22)_2 1.0\n",
      "x_(22, 23) 1.0\n",
      "x_(22, 23)_2 1.0\n",
      "x_(5, 10) 1.0\n",
      "x_(8, 9) 1.0\n",
      "x_(8, 9)_2 1.0\n",
      "x_(17, 18) 1.0\n",
      "x_(18, 19)_2 1.0\n",
      "x_(4, 5) 1.0\n",
      "x_(0, 1) 1.0\n",
      "x_(0, 1)_2 1.0\n",
      "x_(0, 7) 1.0\n",
      "x_(0, 7)_2 1.0\n",
      "x_(1, 2)_2 1.0\n",
      "x_(10, 14)_2 1.0\n",
      "x_(2, 19) 1.0\n",
      "x_(6, 16) 1.0\n",
      "x_(3, 11) 1.0\n",
      "x_(3, 11)_2 1.0\n",
      "x_(20, 21) 1.0\n",
      "x_(12, 20)_2 1.0\n",
      "x_(2, 3) 1.0\n",
      "x_(16, 23) 1.0\n",
      "x_(11, 15) 1.0\n",
      "x_(11, 15)_2 1.0\n",
      "x_(13, 18)_2 1.0\n"
     ]
    }
   ],
   "source": [
    "model.optimize()\n",
    "#print value\n",
    "for v in model.getVars():\n",
    "    if v.x > 0:\n",
    "        print(v.varName, v.x)"
   ]
  },
  {
   "cell_type": "code",
   "execution_count": 149,
   "metadata": {},
   "outputs": [
    {
     "name": "stdout",
     "output_type": "stream",
     "text": [
      "Gurobi Optimizer version 10.0.1 build v10.0.1rc0 (win64)\n",
      "\n",
      "CPU model: 12th Gen Intel(R) Core(TM) i5-12500H, instruction set [SSE2|AVX|AVX2]\n",
      "Thread count: 12 physical cores, 16 logical processors, using up to 16 threads\n",
      "\n",
      "Optimize a model with 80 rows, 62 columns and 236 nonzeros\n",
      "Model fingerprint: 0x15e8a6d2\n",
      "Variable types: 0 continuous, 62 integer (62 binary)\n",
      "Coefficient statistics:\n",
      "  Matrix range     [1e+00, 1e+00]\n",
      "  Objective range  [0e+00, 0e+00]\n",
      "  Bounds range     [1e+00, 1e+00]\n",
      "  RHS range        [1e+00, 4e+00]\n",
      "\n",
      "Loaded MIP start from previous solve with objective 0\n",
      "\n",
      "\n",
      "Explored 0 nodes (0 simplex iterations) in 0.01 seconds (0.00 work units)\n",
      "Thread count was 1 (of 16 available processors)\n",
      "\n",
      "Solution count 1: 0 \n",
      "\n",
      "Optimal solution found (tolerance 1.00e-04)\n",
      "Best objective 0.000000000000e+00, best bound 0.000000000000e+00, gap 0.0000%\n",
      "x_(12, 13) 1.0\n",
      "x_(12, 13)_2 1.0\n",
      "x_(21, 22)_2 1.0\n",
      "x_(22, 23) 1.0\n",
      "x_(22, 23)_2 1.0\n",
      "x_(5, 10) 1.0\n",
      "x_(8, 9) 1.0\n",
      "x_(8, 9)_2 1.0\n",
      "x_(17, 18) 1.0\n",
      "x_(18, 19)_2 1.0\n",
      "x_(4, 5) 1.0\n",
      "x_(0, 1) 1.0\n",
      "x_(0, 1)_2 1.0\n",
      "x_(0, 7) 1.0\n",
      "x_(0, 7)_2 1.0\n",
      "x_(1, 2)_2 1.0\n",
      "x_(10, 14)_2 1.0\n",
      "x_(2, 19) 1.0\n",
      "x_(6, 16) 1.0\n",
      "x_(3, 11) 1.0\n",
      "x_(3, 11)_2 1.0\n",
      "x_(20, 21) 1.0\n",
      "x_(12, 20)_2 1.0\n",
      "x_(2, 3) 1.0\n",
      "x_(16, 23) 1.0\n",
      "x_(11, 15) 1.0\n",
      "x_(11, 15)_2 1.0\n",
      "x_(13, 18)_2 1.0\n"
     ]
    }
   ],
   "source": [
    "#B6: check các cạnh cắt nhau\n",
    "for cut_edge in cut_edges:\n",
    "    edge1 = cut_edge[0]\n",
    "    edge2 = cut_edge[1]\n",
    "    model.addConstr(x[edge1] + x[edge2] <= 1, name=f'cut_{edge1}_{edge2}')\n",
    "    model.addConstr(x[edge1, 2] + x[edge2] <= 1, name=f'cut_{edge1,2}_{edge2}')\n",
    "    model.addConstr(x[edge1] + x[edge2, 2] <= 1, name=f'cut_{edge1}_{edge2,2}')\n",
    "    model.addConstr(x[edge1, 2] + x[edge2, 2] <= 1, name=f'cut_{edge1,2}_{edge2,2}')\n",
    "    \n",
    "model.optimize()\n",
    "for v in model.getVars():\n",
    "    if v.x > 0:\n",
    "        print(v.varName, v.x)"
   ]
  },
  {
   "cell_type": "code",
   "execution_count": 150,
   "metadata": {},
   "outputs": [],
   "source": [
    "#B7: check đồ thị liên thông\n",
    "\n",
    "    "
   ]
  },
  {
   "cell_type": "code",
   "execution_count": 151,
   "metadata": {},
   "outputs": [
    {
     "data": {
      "text/plain": [
       "False"
      ]
     },
     "execution_count": 151,
     "metadata": {},
     "output_type": "execute_result"
    }
   ],
   "source": [
    "#B7: tiếp : check value in model\n",
    "from check_connected_graph import CheckConnectedGraph\n",
    "\n",
    "\n",
    "edges_set = set()\n",
    "for edge in edges:\n",
    "    if x[edge].x > 0.5 or x[edge,2].x > 0.5:\n",
    "        edges_set.add(edge)\n",
    "check_connected_graph = CheckConnectedGraph(edges_set=edges_set, nvertex=len(nodes))\n",
    "a = check_connected_graph.check_connected_graph()\n",
    "a"
   ]
  },
  {
   "cell_type": "code",
   "execution_count": null,
   "metadata": {},
   "outputs": [],
   "source": []
  },
  {
   "cell_type": "code",
   "execution_count": 152,
   "metadata": {},
   "outputs": [
    {
     "name": "stdout",
     "output_type": "stream",
     "text": [
      "Lâp lần thứ  0\n",
      "Gurobi Optimizer version 10.0.1 build v10.0.1rc0 (win64)\n",
      "\n",
      "CPU model: 12th Gen Intel(R) Core(TM) i5-12500H, instruction set [SSE2|AVX|AVX2]\n",
      "Thread count: 12 physical cores, 16 logical processors, using up to 16 threads\n",
      "\n",
      "Optimize a model with 81 rows, 62 columns and 264 nonzeros\n",
      "Model fingerprint: 0x17fb9f47\n",
      "Variable types: 0 continuous, 62 integer (62 binary)\n",
      "Coefficient statistics:\n",
      "  Matrix range     [1e+00, 1e+00]\n",
      "  Objective range  [0e+00, 0e+00]\n",
      "  Bounds range     [1e+00, 1e+00]\n",
      "  RHS range        [1e+00, 3e+01]\n",
      "\n",
      "MIP start from previous solve did not produce a new incumbent solution\n",
      "MIP start from previous solve violates constraint cut_old0 by 1.000000000\n",
      "\n",
      "Found heuristic solution: objective 0.0000000\n",
      "\n",
      "Explored 0 nodes (0 simplex iterations) in 0.01 seconds (0.00 work units)\n",
      "Thread count was 1 (of 16 available processors)\n",
      "\n",
      "Solution count 1: 0 \n",
      "\n",
      "Optimal solution found (tolerance 1.00e-04)\n",
      "Best objective 0.000000000000e+00, best bound 0.000000000000e+00, gap 0.0000%\n",
      "Lâp lần thứ  1\n",
      "Gurobi Optimizer version 10.0.1 build v10.0.1rc0 (win64)\n",
      "\n",
      "CPU model: 12th Gen Intel(R) Core(TM) i5-12500H, instruction set [SSE2|AVX|AVX2]\n",
      "Thread count: 12 physical cores, 16 logical processors, using up to 16 threads\n",
      "\n",
      "Optimize a model with 82 rows, 62 columns and 292 nonzeros\n",
      "Model fingerprint: 0x10e993a9\n",
      "Variable types: 0 continuous, 62 integer (62 binary)\n",
      "Coefficient statistics:\n",
      "  Matrix range     [1e+00, 1e+00]\n",
      "  Objective range  [0e+00, 0e+00]\n",
      "  Bounds range     [1e+00, 1e+00]\n",
      "  RHS range        [1e+00, 3e+01]\n",
      "\n",
      "MIP start from previous solve did not produce a new incumbent solution\n",
      "MIP start from previous solve violates constraint cut_old1 by 1.000000000\n",
      "\n",
      "Found heuristic solution: objective 0.0000000\n",
      "\n",
      "Explored 0 nodes (0 simplex iterations) in 0.01 seconds (0.00 work units)\n",
      "Thread count was 1 (of 16 available processors)\n",
      "\n",
      "Solution count 1: 0 \n",
      "\n",
      "Optimal solution found (tolerance 1.00e-04)\n",
      "Best objective 0.000000000000e+00, best bound 0.000000000000e+00, gap 0.0000%\n",
      "Lâp lần thứ  2\n",
      "Gurobi Optimizer version 10.0.1 build v10.0.1rc0 (win64)\n",
      "\n",
      "CPU model: 12th Gen Intel(R) Core(TM) i5-12500H, instruction set [SSE2|AVX|AVX2]\n",
      "Thread count: 12 physical cores, 16 logical processors, using up to 16 threads\n",
      "\n",
      "Optimize a model with 83 rows, 62 columns and 320 nonzeros\n",
      "Model fingerprint: 0x58ced21a\n",
      "Variable types: 0 continuous, 62 integer (62 binary)\n",
      "Coefficient statistics:\n",
      "  Matrix range     [1e+00, 1e+00]\n",
      "  Objective range  [0e+00, 0e+00]\n",
      "  Bounds range     [1e+00, 1e+00]\n",
      "  RHS range        [1e+00, 3e+01]\n",
      "\n",
      "MIP start from previous solve did not produce a new incumbent solution\n",
      "MIP start from previous solve violates constraint cut_old2 by 1.000000000\n",
      "\n",
      "Found heuristic solution: objective 0.0000000\n",
      "\n",
      "Explored 0 nodes (0 simplex iterations) in 0.01 seconds (0.00 work units)\n",
      "Thread count was 1 (of 16 available processors)\n",
      "\n",
      "Solution count 1: 0 \n",
      "\n",
      "Optimal solution found (tolerance 1.00e-04)\n",
      "Best objective 0.000000000000e+00, best bound 0.000000000000e+00, gap 0.0000%\n",
      "Lâp lần thứ  3\n",
      "Gurobi Optimizer version 10.0.1 build v10.0.1rc0 (win64)\n",
      "\n",
      "CPU model: 12th Gen Intel(R) Core(TM) i5-12500H, instruction set [SSE2|AVX|AVX2]\n",
      "Thread count: 12 physical cores, 16 logical processors, using up to 16 threads\n",
      "\n",
      "Optimize a model with 84 rows, 62 columns and 348 nonzeros\n",
      "Model fingerprint: 0xa20461f6\n",
      "Variable types: 0 continuous, 62 integer (62 binary)\n",
      "Coefficient statistics:\n",
      "  Matrix range     [1e+00, 1e+00]\n",
      "  Objective range  [0e+00, 0e+00]\n",
      "  Bounds range     [1e+00, 1e+00]\n",
      "  RHS range        [1e+00, 3e+01]\n",
      "\n",
      "MIP start from previous solve did not produce a new incumbent solution\n",
      "MIP start from previous solve violates constraint cut_old3 by 1.000000000\n",
      "\n",
      "Found heuristic solution: objective 0.0000000\n",
      "\n",
      "Explored 0 nodes (0 simplex iterations) in 0.00 seconds (0.00 work units)\n",
      "Thread count was 1 (of 16 available processors)\n",
      "\n",
      "Solution count 1: 0 \n",
      "\n",
      "Optimal solution found (tolerance 1.00e-04)\n",
      "Best objective 0.000000000000e+00, best bound 0.000000000000e+00, gap 0.0000%\n",
      "Lâp lần thứ  4\n",
      "Gurobi Optimizer version 10.0.1 build v10.0.1rc0 (win64)\n",
      "\n",
      "CPU model: 12th Gen Intel(R) Core(TM) i5-12500H, instruction set [SSE2|AVX|AVX2]\n",
      "Thread count: 12 physical cores, 16 logical processors, using up to 16 threads\n",
      "\n",
      "Optimize a model with 85 rows, 62 columns and 376 nonzeros\n",
      "Model fingerprint: 0x1a3fab6d\n",
      "Variable types: 0 continuous, 62 integer (62 binary)\n",
      "Coefficient statistics:\n",
      "  Matrix range     [1e+00, 1e+00]\n",
      "  Objective range  [0e+00, 0e+00]\n",
      "  Bounds range     [1e+00, 1e+00]\n",
      "  RHS range        [1e+00, 3e+01]\n",
      "\n",
      "MIP start from previous solve did not produce a new incumbent solution\n",
      "MIP start from previous solve violates constraint cut_old4 by 1.000000000\n",
      "\n",
      "Found heuristic solution: objective 0.0000000\n",
      "\n",
      "Explored 0 nodes (0 simplex iterations) in 0.01 seconds (0.00 work units)\n",
      "Thread count was 1 (of 16 available processors)\n",
      "\n",
      "Solution count 1: 0 \n",
      "\n",
      "Optimal solution found (tolerance 1.00e-04)\n",
      "Best objective 0.000000000000e+00, best bound 0.000000000000e+00, gap 0.0000%\n",
      "Lâp lần thứ  5\n",
      "Gurobi Optimizer version 10.0.1 build v10.0.1rc0 (win64)\n",
      "\n",
      "CPU model: 12th Gen Intel(R) Core(TM) i5-12500H, instruction set [SSE2|AVX|AVX2]\n",
      "Thread count: 12 physical cores, 16 logical processors, using up to 16 threads\n",
      "\n",
      "Optimize a model with 86 rows, 62 columns and 404 nonzeros\n",
      "Model fingerprint: 0x77c90441\n",
      "Variable types: 0 continuous, 62 integer (62 binary)\n",
      "Coefficient statistics:\n",
      "  Matrix range     [1e+00, 1e+00]\n",
      "  Objective range  [0e+00, 0e+00]\n",
      "  Bounds range     [1e+00, 1e+00]\n",
      "  RHS range        [1e+00, 3e+01]\n",
      "\n",
      "MIP start from previous solve did not produce a new incumbent solution\n",
      "MIP start from previous solve violates constraint cut_old5 by 1.000000000\n",
      "\n",
      "Found heuristic solution: objective 0.0000000\n",
      "\n",
      "Explored 0 nodes (0 simplex iterations) in 0.01 seconds (0.00 work units)\n",
      "Thread count was 1 (of 16 available processors)\n",
      "\n",
      "Solution count 1: 0 \n",
      "\n",
      "Optimal solution found (tolerance 1.00e-04)\n",
      "Best objective 0.000000000000e+00, best bound 0.000000000000e+00, gap 0.0000%\n",
      "Lâp lần thứ  6\n",
      "Gurobi Optimizer version 10.0.1 build v10.0.1rc0 (win64)\n",
      "\n",
      "CPU model: 12th Gen Intel(R) Core(TM) i5-12500H, instruction set [SSE2|AVX|AVX2]\n",
      "Thread count: 12 physical cores, 16 logical processors, using up to 16 threads\n",
      "\n",
      "Optimize a model with 87 rows, 62 columns and 432 nonzeros\n",
      "Model fingerprint: 0x858cd839\n",
      "Variable types: 0 continuous, 62 integer (62 binary)\n",
      "Coefficient statistics:\n",
      "  Matrix range     [1e+00, 1e+00]\n",
      "  Objective range  [0e+00, 0e+00]\n",
      "  Bounds range     [1e+00, 1e+00]\n",
      "  RHS range        [1e+00, 3e+01]\n",
      "\n",
      "MIP start from previous solve did not produce a new incumbent solution\n",
      "MIP start from previous solve violates constraint cut_old6 by 1.000000000\n",
      "\n",
      "Found heuristic solution: objective 0.0000000\n",
      "\n",
      "Explored 0 nodes (0 simplex iterations) in 0.00 seconds (0.00 work units)\n",
      "Thread count was 1 (of 16 available processors)\n",
      "\n",
      "Solution count 1: 0 \n",
      "\n",
      "Optimal solution found (tolerance 1.00e-04)\n",
      "Best objective 0.000000000000e+00, best bound 0.000000000000e+00, gap 0.0000%\n",
      "Lâp lần thứ  7\n",
      "Gurobi Optimizer version 10.0.1 build v10.0.1rc0 (win64)\n",
      "\n",
      "CPU model: 12th Gen Intel(R) Core(TM) i5-12500H, instruction set [SSE2|AVX|AVX2]\n",
      "Thread count: 12 physical cores, 16 logical processors, using up to 16 threads\n",
      "\n",
      "Optimize a model with 88 rows, 62 columns and 460 nonzeros\n",
      "Model fingerprint: 0x59522b58\n",
      "Variable types: 0 continuous, 62 integer (62 binary)\n",
      "Coefficient statistics:\n",
      "  Matrix range     [1e+00, 1e+00]\n",
      "  Objective range  [0e+00, 0e+00]\n",
      "  Bounds range     [1e+00, 1e+00]\n",
      "  RHS range        [1e+00, 3e+01]\n",
      "\n",
      "MIP start from previous solve did not produce a new incumbent solution\n",
      "MIP start from previous solve violates constraint cut_old7 by 1.000000000\n",
      "\n",
      "Found heuristic solution: objective 0.0000000\n",
      "\n",
      "Explored 0 nodes (0 simplex iterations) in 0.01 seconds (0.00 work units)\n",
      "Thread count was 1 (of 16 available processors)\n",
      "\n",
      "Solution count 1: 0 \n",
      "\n",
      "Optimal solution found (tolerance 1.00e-04)\n",
      "Best objective 0.000000000000e+00, best bound 0.000000000000e+00, gap 0.0000%\n",
      "Lâp lần thứ  8\n",
      "Gurobi Optimizer version 10.0.1 build v10.0.1rc0 (win64)\n",
      "\n",
      "CPU model: 12th Gen Intel(R) Core(TM) i5-12500H, instruction set [SSE2|AVX|AVX2]\n",
      "Thread count: 12 physical cores, 16 logical processors, using up to 16 threads\n",
      "\n",
      "Optimize a model with 89 rows, 62 columns and 488 nonzeros\n",
      "Model fingerprint: 0x1af01ecc\n",
      "Variable types: 0 continuous, 62 integer (62 binary)\n",
      "Coefficient statistics:\n",
      "  Matrix range     [1e+00, 1e+00]\n",
      "  Objective range  [0e+00, 0e+00]\n",
      "  Bounds range     [1e+00, 1e+00]\n",
      "  RHS range        [1e+00, 3e+01]\n",
      "\n",
      "MIP start from previous solve did not produce a new incumbent solution\n",
      "MIP start from previous solve violates constraint cut_old8 by 1.000000000\n",
      "\n",
      "Presolve removed 89 rows and 62 columns\n",
      "Presolve time: 0.00s\n",
      "Presolve: All rows and columns removed\n",
      "\n",
      "Explored 0 nodes (0 simplex iterations) in 0.01 seconds (0.00 work units)\n",
      "Thread count was 1 (of 16 available processors)\n",
      "\n",
      "Solution count 1: 0 \n",
      "\n",
      "Optimal solution found (tolerance 1.00e-04)\n",
      "Best objective 0.000000000000e+00, best bound 0.000000000000e+00, gap 0.0000%\n",
      "Lâp lần thứ  9\n",
      "connected\n",
      "x_(12, 13) 1.0\n",
      "x_(21, 22) 1.0\n",
      "x_(22, 23) 1.0\n",
      "x_(22, 23)_2 1.0\n",
      "x_(5, 10) 1.0\n",
      "x_(8, 9)_2 1.0\n",
      "x_(8, 12)_2 1.0\n",
      "x_(17, 18)_2 1.0\n",
      "x_(13, 14) 1.0\n",
      "x_(18, 19) 1.0\n",
      "x_(4, 5)_2 1.0\n",
      "x_(0, 1) 1.0\n",
      "x_(0, 1)_2 1.0\n",
      "x_(0, 7) 1.0\n",
      "x_(0, 7)_2 1.0\n",
      "x_(9, 10) 1.0\n",
      "x_(1, 2) 1.0\n",
      "x_(2, 19)_2 1.0\n",
      "x_(6, 16) 1.0\n",
      "x_(3, 11) 1.0\n",
      "x_(3, 11)_2 1.0\n",
      "x_(20, 21) 1.0\n",
      "x_(12, 20) 1.0\n",
      "x_(2, 3)_2 1.0\n",
      "x_(16, 23)_2 1.0\n",
      "x_(11, 15) 1.0\n",
      "x_(11, 15)_2 1.0\n",
      "x_(13, 18)_2 1.0\n"
     ]
    }
   ],
   "source": [
    "max_iteration = 100\n",
    "for i in range(max_iteration):\n",
    "    #nếu bị infeasible thì dừng\n",
    "    if model.status == GRB.INFEASIBLE:\n",
    "        print('INFEASIBLE')\n",
    "        break\n",
    "    print('Lâp lần thứ ', i)\n",
    "    edges_set = set()\n",
    "    old_key = []\n",
    "    for edge in edges:\n",
    "        #print('edge', edge)\n",
    "        #print('x[edge].x', x[edge].x)\n",
    "        if x[edge].x > 0.5 or x[(edge,2)].x > 0.5:\n",
    "            edges_set.add(edge)\n",
    "        if(x[edge].x > 0.5):\n",
    "            old_key.append(edge)\n",
    "        if(x[(edge,2)].x > 0.5):\n",
    "            old_key.append((edge,2))\n",
    "    check_connected_graph = CheckConnectedGraph(edges_set=edges_set, nvertex=len(nodes))\n",
    "    a = check_connected_graph.check_connected_graph()\n",
    "    if(a == True):\n",
    "        print('connected')\n",
    "        break\n",
    "    #cắt nghiệm cũ đi \n",
    "    #lấy tất cả những biến có giá trị > 0.5\n",
    "    #tạo ra 1 ràng buộc mới\n",
    "    model.addConstr(sum(x[old_key[j]] for j in range(len(old_key))  ) <= len(old_key) - 1, name=f'cut_old{i}')\n",
    "    model.optimize()\n",
    "#print value\n",
    "for v in model.getVars():\n",
    "    if v.x > 0:\n",
    "        print(v.varName, v.x)"
   ]
  },
  {
   "cell_type": "code",
   "execution_count": 153,
   "metadata": {},
   "outputs": [
    {
     "name": "stdout",
     "output_type": "stream",
     "text": [
      "optimal\n",
      "number of constrains 89\n"
     ]
    }
   ],
   "source": [
    "#kiểm tra tình trạng model có optimal hay ko\n",
    "if model.status == GRB.OPTIMAL:\n",
    "    print('optimal')\n",
    "    #in số ràng buộc\n",
    "    print('number of constrains', model.NumConstrs)"
   ]
  },
  {
   "cell_type": "code",
   "execution_count": 154,
   "metadata": {},
   "outputs": [
    {
     "data": {
      "text/plain": [
       "True"
      ]
     },
     "execution_count": 154,
     "metadata": {},
     "output_type": "execute_result"
    }
   ],
   "source": [
    "#kiểm tra tính liên thông\n",
    "edges_set = set()\n",
    "for edge in edges:\n",
    "    if x[edge].x > 0.5 or x[(edge,2)].x > 0.5:\n",
    "        edges_set.add(edge)\n",
    "check_connected_graph = CheckConnectedGraph(edges_set=edges_set, nvertex=len(nodes))\n",
    "a = check_connected_graph.check_connected_graph()\n",
    "a"
   ]
  },
  {
   "cell_type": "code",
   "execution_count": null,
   "metadata": {},
   "outputs": [],
   "source": []
  }
 ],
 "metadata": {
  "kernelspec": {
   "display_name": "Python 3",
   "language": "python",
   "name": "python3"
  },
  "language_info": {
   "codemirror_mode": {
    "name": "ipython",
    "version": 3
   },
   "file_extension": ".py",
   "mimetype": "text/x-python",
   "name": "python",
   "nbconvert_exporter": "python",
   "pygments_lexer": "ipython3",
   "version": "3.11.2"
  },
  "orig_nbformat": 4
 },
 "nbformat": 4,
 "nbformat_minor": 2
}
